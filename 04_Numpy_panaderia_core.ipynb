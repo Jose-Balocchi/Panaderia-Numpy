{
  "nbformat": 4,
  "nbformat_minor": 0,
  "metadata": {
    "colab": {
      "provenance": [],
      "authorship_tag": "ABX9TyMsiJqOONBg58A4hPg/x13s",
      "include_colab_link": true
    },
    "kernelspec": {
      "name": "python3",
      "display_name": "Python 3"
    },
    "language_info": {
      "name": "python"
    }
  },
  "cells": [
    {
      "cell_type": "markdown",
      "metadata": {
        "id": "view-in-github",
        "colab_type": "text"
      },
      "source": [
        "<a href=\"https://colab.research.google.com/github/Jose-Balocchi/Panaderiaa-Numpy/blob/main/04_Numpy_panaderia_core.ipynb\" target=\"_parent\"><img src=\"https://colab.research.google.com/assets/colab-badge.svg\" alt=\"Open In Colab\"/></a>"
      ]
    },
    {
      "cell_type": "markdown",
      "source": [
        "\n",
        "Lista de Precios (brownies, galletas, pastel)"
      ],
      "metadata": {
        "id": "61Sb6QqoFu81"
      }
    },
    {
      "cell_type": "code",
      "execution_count": null,
      "metadata": {
        "colab": {
          "base_uri": "https://localhost:8080/"
        },
        "id": "MpfgVCUZEAkP",
        "outputId": "2bf4f44b-574c-41e7-cd2f-b0e110c36625"
      },
      "outputs": [
        {
          "output_type": "execute_result",
          "data": {
            "text/plain": [
              "list"
            ]
          },
          "metadata": {},
          "execution_count": 37
        }
      ],
      "source": [
        "price = [2 , 1, 10]\n",
        "type(price)"
      ]
    },
    {
      "cell_type": "markdown",
      "source": [
        "Lista de Cantidad (venta)"
      ],
      "metadata": {
        "id": "5vCXBAHRG2db"
      }
    },
    {
      "cell_type": "code",
      "source": [
        "quantity_sold = [17, 40, 1]\n",
        "type (quantity_sold)\n",
        "print(quantity_sold)"
      ],
      "metadata": {
        "colab": {
          "base_uri": "https://localhost:8080/"
        },
        "id": "rx_VA-L1GlqL",
        "outputId": "c015cea6-8686-4f81-b87c-2910941f22cf"
      },
      "execution_count": null,
      "outputs": [
        {
          "output_type": "stream",
          "name": "stdout",
          "text": [
            "[17, 40, 1]\n"
          ]
        }
      ]
    },
    {
      "cell_type": "markdown",
      "source": [
        "Lista de Costos"
      ],
      "metadata": {
        "id": "uMJxXjd8Jw6o"
      }
    },
    {
      "cell_type": "code",
      "source": [
        "cost = [0.25, 0.50, 5.00]\n",
        "type(cost)"
      ],
      "metadata": {
        "colab": {
          "base_uri": "https://localhost:8080/"
        },
        "id": "1vwY6VnfJ8RC",
        "outputId": "cb128326-5487-4c3c-b568-5e7b23847406"
      },
      "execution_count": null,
      "outputs": [
        {
          "output_type": "execute_result",
          "data": {
            "text/plain": [
              "list"
            ]
          },
          "metadata": {},
          "execution_count": 11
        }
      ]
    },
    {
      "cell_type": "markdown",
      "source": [
        "Lista de Sobras / leftovers\n",
        "\n",
        "brownies, galletas, pastel, tartas, dulces, magdalena, barra de pan"
      ],
      "metadata": {
        "id": "9HukwUc69Dl4"
      }
    },
    {
      "cell_type": "code",
      "source": [
        "quantity_leftovers = [0, 0, 2, 1, 6, 0, 2]\n",
        "type(quantity_leftovers)"
      ],
      "metadata": {
        "colab": {
          "base_uri": "https://localhost:8080/"
        },
        "id": "a2Q5IC3a9MvT",
        "outputId": "905d8f3a-ac8c-4277-be7b-030a1ac25da3"
      },
      "execution_count": null,
      "outputs": [
        {
          "output_type": "execute_result",
          "data": {
            "text/plain": [
              "list"
            ]
          },
          "metadata": {},
          "execution_count": 25
        }
      ]
    },
    {
      "cell_type": "markdown",
      "source": [
        "Necesitamos calcular el ingreso por venta, pero no podemos multiplicar listas (price * quantity_sold) "
      ],
      "metadata": {
        "id": "1J6bgfLtHaJt"
      }
    },
    {
      "cell_type": "markdown",
      "source": [
        "Ahora importaremos la bliblioteca Numpy"
      ],
      "metadata": {
        "id": "-p2jcdOpH9Le"
      }
    },
    {
      "cell_type": "code",
      "source": [
        "import numpy as np\n"
      ],
      "metadata": {
        "id": "nQi-o32XHSQ7"
      },
      "execution_count": null,
      "outputs": []
    },
    {
      "cell_type": "markdown",
      "source": [
        "Ahora pasaremos las listas originales a listas (arrays) de Numpy"
      ],
      "metadata": {
        "id": "8hCKgGFMIP3z"
      }
    },
    {
      "cell_type": "code",
      "source": [
        "price_array = np.array(price)\n",
        "quantity_sold_array = np.array(quantity_sold)\n",
        "cost_array = np.array(cost)\n",
        "leftover_array = np.array(quantity_leftovers)\n",
        "\n",
        "type(price_array)"
      ],
      "metadata": {
        "colab": {
          "base_uri": "https://localhost:8080/"
        },
        "id": "5h7pdJRCIEa8",
        "outputId": "d345ba08-5aa8-4c18-effa-5d8009fa8f50"
      },
      "execution_count": null,
      "outputs": [
        {
          "output_type": "execute_result",
          "data": {
            "text/plain": [
              "numpy.ndarray"
            ]
          },
          "metadata": {},
          "execution_count": 38
        }
      ]
    },
    {
      "cell_type": "markdown",
      "source": [
        "Ahora intentaremos multiplicar los nuevos arrays"
      ],
      "metadata": {
        "id": "s8-mGiQlJLsd"
      }
    },
    {
      "cell_type": "code",
      "source": [
        "price_array * quantity_sold_array"
      ],
      "metadata": {
        "colab": {
          "base_uri": "https://localhost:8080/"
        },
        "id": "nIQE3v_FI991",
        "outputId": "b614832d-2462-4554-d397-37b20b510c26"
      },
      "execution_count": null,
      "outputs": [
        {
          "output_type": "execute_result",
          "data": {
            "text/plain": [
              "array([34. , 39. , 12. , 14. , 13.5, 48. , 20. ])"
            ]
          },
          "metadata": {},
          "execution_count": 47
        }
      ]
    },
    {
      "cell_type": "markdown",
      "source": [
        "Ahora calcularemos el ingreso neto por item (precio - costo)\n",
        "Definimos una nueva variable profit array"
      ],
      "metadata": {
        "id": "gJqj4VqHKKUw"
      }
    },
    {
      "cell_type": "code",
      "source": [
        "profit_array = price_array - cost_array\n",
        "print (profit_array)"
      ],
      "metadata": {
        "colab": {
          "base_uri": "https://localhost:8080/"
        },
        "id": "-32SdVHrJTsx",
        "outputId": "acb72bd2-82b7-4b52-b981-d25cf16571af"
      },
      "execution_count": null,
      "outputs": [
        {
          "output_type": "stream",
          "name": "stdout",
          "text": [
            "[1.75 0.5  5.  ]\n"
          ]
        }
      ]
    },
    {
      "cell_type": "markdown",
      "source": [
        "Identificar que elementos tienen un profit > 2 (solo el pastel)"
      ],
      "metadata": {
        "id": "gmhkXqRpLkCI"
      }
    },
    {
      "cell_type": "code",
      "source": [
        "profit_array > 2"
      ],
      "metadata": {
        "colab": {
          "base_uri": "https://localhost:8080/"
        },
        "id": "zo2-sUEIKrdj",
        "outputId": "e8fb0a91-cf75-4573-fcad-6e56fb9ad9d2"
      },
      "execution_count": null,
      "outputs": [
        {
          "output_type": "execute_result",
          "data": {
            "text/plain": [
              "array([False, False,  True])"
            ]
          },
          "metadata": {},
          "execution_count": 16
        }
      ]
    },
    {
      "cell_type": "markdown",
      "source": [
        "Como agregar elementos. Ahora agregaremos precios a nuestra lista de precios de Numpy\n",
        "**brownies, galletas, pastel, tartas**"
      ],
      "metadata": {
        "id": "yajU-Up6L8sw"
      }
    },
    {
      "cell_type": "code",
      "source": [
        "price_array = np.append(price_array, 7)\n",
        "print(price_array)"
      ],
      "metadata": {
        "colab": {
          "base_uri": "https://localhost:8080/"
        },
        "id": "f0rvSb79Lwom",
        "outputId": "21fa3892-396c-4037-c3ff-73f39e73192a"
      },
      "execution_count": null,
      "outputs": [
        {
          "output_type": "stream",
          "name": "stdout",
          "text": [
            "[ 2  1 10  7]\n"
          ]
        }
      ]
    },
    {
      "cell_type": "markdown",
      "source": [
        "Ahora agregaremos una serie de precios\n",
        "\n",
        "**brownies, galletas, pastel, tartas, dulces, magdalena, barra de pan, torta**"
      ],
      "metadata": {
        "id": "xMS-n8YINY5Y"
      }
    },
    {
      "cell_type": "code",
      "source": [
        "price_array = np.append(price_array, [4.5, 3, 4, 9])\n",
        "print(price_array)"
      ],
      "metadata": {
        "colab": {
          "base_uri": "https://localhost:8080/"
        },
        "id": "TgEcT-P0NFuL",
        "outputId": "77ec4812-06b8-4ae0-91d9-4209233a0378"
      },
      "execution_count": null,
      "outputs": [
        {
          "output_type": "stream",
          "name": "stdout",
          "text": [
            "[ 2.   1.  10.   7.   4.5  3.   4.   9. ]\n"
          ]
        }
      ]
    },
    {
      "cell_type": "markdown",
      "source": [
        "Eliminar el ultimo elemento\n",
        "\n",
        "**brownies, galletas, pastel, tartas, dulces, magdalena, barra de pan**"
      ],
      "metadata": {
        "id": "KnoAvS4LN5z5"
      }
    },
    {
      "cell_type": "code",
      "source": [
        "price_array = np.delete(price_array, -1)\n",
        "print(price_array)"
      ],
      "metadata": {
        "colab": {
          "base_uri": "https://localhost:8080/"
        },
        "id": "wb44khOINocv",
        "outputId": "c2bd7a7a-698d-4332-bc32-6f856e474572"
      },
      "execution_count": null,
      "outputs": [
        {
          "output_type": "stream",
          "name": "stdout",
          "text": [
            "[ 2.   1.  10.   7.   4.5  3.   4. ]\n"
          ]
        }
      ]
    },
    {
      "cell_type": "markdown",
      "source": [
        "Reemplazar elementos\n",
        "\n"
      ],
      "metadata": {
        "id": "LQ-htdr9OLLN"
      }
    },
    {
      "cell_type": "code",
      "source": [
        "price_array [2] = 12\n",
        "print(price_array)"
      ],
      "metadata": {
        "colab": {
          "base_uri": "https://localhost:8080/"
        },
        "id": "9bsSdmyZAXSd",
        "outputId": "03842e81-f66f-4c53-ff61-eae739e2ea40"
      },
      "execution_count": null,
      "outputs": [
        {
          "output_type": "stream",
          "name": "stdout",
          "text": [
            "[ 2.   1.  12.   7.   4.5  3.   4. ]\n"
          ]
        }
      ]
    },
    {
      "cell_type": "code",
      "source": [],
      "metadata": {
        "id": "6-grk-FVAdFI"
      },
      "execution_count": null,
      "outputs": []
    },
    {
      "cell_type": "markdown",
      "source": [
        "Actualizar  quantity_sold_array:  2 tartas, 3 bandejas de dulces, 16 magdalenas y 5 panes de plátano.  \n",
        "\n",
        "brownies, galletas, pastel, tartas, dulces, magdalena, barra de pan\n",
        "\n",
        "quantity_sold_array de 40 a 39.  (se cayo una galleta)"
      ],
      "metadata": {
        "id": "54s3xLoK5nH2"
      }
    },
    {
      "cell_type": "code",
      "source": [
        "print(quantity_sold)"
      ],
      "metadata": {
        "colab": {
          "base_uri": "https://localhost:8080/"
        },
        "id": "AjU5rgv66TqC",
        "outputId": "b624eaa6-42f7-47ce-c5f3-dbd6f4c108e0"
      },
      "execution_count": null,
      "outputs": [
        {
          "output_type": "stream",
          "name": "stdout",
          "text": [
            "[17, 40, 1]\n"
          ]
        }
      ]
    },
    {
      "cell_type": "code",
      "source": [
        "print(quantity_sold_array)"
      ],
      "metadata": {
        "colab": {
          "base_uri": "https://localhost:8080/"
        },
        "id": "TdAN8Dlj7Ngc",
        "outputId": "943a071c-2d2e-4dfe-aee8-b4be270bc64d"
      },
      "execution_count": null,
      "outputs": [
        {
          "output_type": "stream",
          "name": "stdout",
          "text": [
            "[17 40  1]\n"
          ]
        }
      ]
    },
    {
      "cell_type": "code",
      "source": [
        "quantity_sold_array = [17,39,1,2,3,16,5]\n",
        "print (quantity_sold_array)\n",
        "type(quantity_sold_array)"
      ],
      "metadata": {
        "colab": {
          "base_uri": "https://localhost:8080/"
        },
        "id": "0xQDbDiX7O_q",
        "outputId": "e3f3231d-2fa6-40d6-d66f-f7238ca5a7ff"
      },
      "execution_count": null,
      "outputs": [
        {
          "output_type": "stream",
          "name": "stdout",
          "text": [
            "[17, 39, 1, 2, 3, 16, 5]\n"
          ]
        },
        {
          "output_type": "execute_result",
          "data": {
            "text/plain": [
              "list"
            ]
          },
          "metadata": {},
          "execution_count": 46
        }
      ]
    },
    {
      "cell_type": "markdown",
      "source": [
        "**Ingreso por venta por item considerando nuevos articulos**"
      ],
      "metadata": {
        "id": "TETP4fBh74ob"
      }
    },
    {
      "cell_type": "code",
      "source": [
        "ingresos_regulares = price_array * quantity_sold_array\n",
        "print(ingresos_regulares)"
      ],
      "metadata": {
        "colab": {
          "base_uri": "https://localhost:8080/"
        },
        "id": "95IDX_ivA168",
        "outputId": "8d86503b-6937-47c9-b4a5-ce75e4a2114c"
      },
      "execution_count": null,
      "outputs": [
        {
          "output_type": "stream",
          "name": "stdout",
          "text": [
            "[34.  39.  12.  14.  13.5 48.  20. ]\n"
          ]
        }
      ]
    },
    {
      "cell_type": "markdown",
      "source": [
        "**Crear leftover_array**"
      ],
      "metadata": {
        "id": "duW3tUI9-bVd"
      }
    },
    {
      "cell_type": "code",
      "source": [
        "print(leftover_array)"
      ],
      "metadata": {
        "colab": {
          "base_uri": "https://localhost:8080/"
        },
        "id": "klsjB-FD8Mll",
        "outputId": "f68110f3-4a8d-418b-e668-00915f7af7fa"
      },
      "execution_count": null,
      "outputs": [
        {
          "output_type": "stream",
          "name": "stdout",
          "text": [
            "[0 0 2 1 6 0 2]\n"
          ]
        }
      ]
    },
    {
      "cell_type": "markdown",
      "source": [
        "**Precio con 50 % de descuento para leftovers**"
      ],
      "metadata": {
        "id": "hCH_W5ZnCpe8"
      }
    },
    {
      "cell_type": "code",
      "source": [
        "print  (price_array)"
      ],
      "metadata": {
        "colab": {
          "base_uri": "https://localhost:8080/"
        },
        "id": "nTAzDcC1Bqma",
        "outputId": "9b448b50-51e2-46ec-a3e3-2fde919bee11"
      },
      "execution_count": null,
      "outputs": [
        {
          "output_type": "stream",
          "name": "stdout",
          "text": [
            "[ 2.   1.  12.   7.   4.5  3.   4. ]\n"
          ]
        }
      ]
    },
    {
      "cell_type": "markdown",
      "source": [
        "**Ingresos Promocion leftovers**"
      ],
      "metadata": {
        "id": "P-Gjce-HD9jM"
      }
    },
    {
      "cell_type": "code",
      "source": [
        "ponderador = 0.5\n",
        "discount_price = [y * ponderador for y in price_array ]\n",
        "print (discount_price)"
      ],
      "metadata": {
        "id": "5iJFxhtzC7JN",
        "colab": {
          "base_uri": "https://localhost:8080/"
        },
        "outputId": "77f9df47-09e9-48b8-81ac-fe27b47c85f3"
      },
      "execution_count": null,
      "outputs": [
        {
          "output_type": "stream",
          "name": "stdout",
          "text": [
            "[1.0, 0.5, 6.0, 3.5, 2.25, 1.5, 2.0]\n"
          ]
        }
      ]
    },
    {
      "cell_type": "code",
      "source": [
        "ingresos_promocion = leftover_array * discount_price\n",
        "print (ingresos_promocion)"
      ],
      "metadata": {
        "colab": {
          "base_uri": "https://localhost:8080/"
        },
        "id": "WhHS94IBDgu4",
        "outputId": "da19143a-7c85-4ce2-a200-fcecb56758ca"
      },
      "execution_count": null,
      "outputs": [
        {
          "output_type": "stream",
          "name": "stdout",
          "text": [
            "[ 0.   0.  12.   3.5 13.5  0.   4. ]\n"
          ]
        }
      ]
    },
    {
      "cell_type": "markdown",
      "source": [
        "**Ingresos Promocion total**"
      ],
      "metadata": {
        "id": "h2z3AAeFEbgl"
      }
    },
    {
      "cell_type": "code",
      "source": [
        "sum(ingresos_promocion)"
      ],
      "metadata": {
        "colab": {
          "base_uri": "https://localhost:8080/"
        },
        "id": "bTZZ0ULgD3uT",
        "outputId": "9dad5e76-84f0-4807-915a-1745a4a3e33a"
      },
      "execution_count": null,
      "outputs": [
        {
          "output_type": "execute_result",
          "data": {
            "text/plain": [
              "33.0"
            ]
          },
          "metadata": {},
          "execution_count": 55
        }
      ]
    },
    {
      "cell_type": "markdown",
      "source": [
        "**Ingresos Totales**"
      ],
      "metadata": {
        "id": "zUouqq-BEqbS"
      }
    },
    {
      "cell_type": "code",
      "source": [
        "sum(ingresos_promocion) + sum(ingresos_regulares)"
      ],
      "metadata": {
        "colab": {
          "base_uri": "https://localhost:8080/"
        },
        "id": "fAX3KqAEEX75",
        "outputId": "ff494fd4-a5b8-4a49-abb9-97be0e99435c"
      },
      "execution_count": null,
      "outputs": [
        {
          "output_type": "execute_result",
          "data": {
            "text/plain": [
              "213.5"
            ]
          },
          "metadata": {},
          "execution_count": 56
        }
      ]
    },
    {
      "cell_type": "code",
      "source": [],
      "metadata": {
        "id": "dRCWd2gqEniG"
      },
      "execution_count": null,
      "outputs": []
    }
  ]
}